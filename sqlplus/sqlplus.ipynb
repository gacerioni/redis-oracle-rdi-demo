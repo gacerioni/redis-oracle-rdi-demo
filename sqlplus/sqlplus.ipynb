{
 "cells": [
  {
   "cell_type": "markdown",
   "metadata": {},
   "source": [
    "# Scenario 1 - Which countries have the most Invoices?\n",
    "```sql\n",
    "SELECT BillingCountry, COUNT(*) AS Invoices \n",
    "FROM Invoice\n",
    "GROUP BY BillingCountry\n",
    "ORDER BY Invoices DESC\n",
    "FETCH FIRST 5 ROWS ONLY;\n",
    "```"
   ]
  },
  {
   "cell_type": "code",
   "execution_count": 2,
   "metadata": {
    "vscode": {
     "languageId": "shellscript"
    }
   },
   "outputs": [
    {
     "name": "stdout",
     "output_type": "stream",
     "text": [
      "\n",
      "BILLINGCOUNTRY                           |   INVOICES\n",
      "---------------------------------------- | ----------\n",
      "USA                                      |         91\n",
      "Canada                                   |         56\n",
      "France                                   |         35\n",
      "Brazil                                   |         35\n",
      "Germany                                  |         28\n",
      "\n"
     ]
    }
   ],
   "source": [
    "! docker exec -i oracle /bin/sh -c 'echo exit | sqlplus -S chinook/Password1@localhost:1521/orclpdb1 @/opt/scenarios/scenario_1.sql'"
   ]
  },
  {
   "cell_type": "markdown",
   "metadata": {},
   "source": [
    "# Scenario 2 - Which city has the best customers?\n",
    "```sql\n",
    "SELECT BillingCity, SUM(Total)  AS InvoiceDollars \n",
    "FROM Invoice\n",
    "GROUP BY BillingCity \n",
    "ORDER BY InvoiceDollars DESC\n",
    "FETCH FIRST 3 ROWS ONLY;\n",
    "```"
   ]
  },
  {
   "cell_type": "code",
   "execution_count": 3,
   "metadata": {
    "vscode": {
     "languageId": "shellscript"
    }
   },
   "outputs": [
    {
     "name": "stdout",
     "output_type": "stream",
     "text": [
      "\n",
      "BILLINGCITY                              | INVOICEDOLLARS\n",
      "---------------------------------------- | --------------\n",
      "Prague                                   |          90.24\n",
      "Mountain View                            |          77.24\n",
      "Paris                                    |          77.24\n",
      "\n"
     ]
    }
   ],
   "source": [
    "! docker exec -i oracle /bin/sh -c 'echo exit | sqlplus -S chinook/Password1@localhost:1521/orclpdb1 @/opt/scenarios/scenario_2.sql'"
   ]
  },
  {
   "cell_type": "markdown",
   "metadata": {},
   "source": [
    "# Scenario 3 - Who is the best customer?\n",
    "```sql\n",
    "SELECT CustomerId, SUM(Total) AS Money_Spent \n",
    "FROM Invoice \n",
    "GROUP BY CustomerId \n",
    "ORDER BY Money_Spent DESC \n",
    "FETCH FIRST 1 ROWS ONLY;\n",
    "```"
   ]
  },
  {
   "cell_type": "code",
   "execution_count": 4,
   "metadata": {
    "vscode": {
     "languageId": "shellscript"
    }
   },
   "outputs": [
    {
     "name": "stdout",
     "output_type": "stream",
     "text": [
      "\n",
      "CUSTOMERID | MONEY_SPENT\n",
      "---------- | -----------\n",
      "         6 |       49.62\n",
      "\n"
     ]
    }
   ],
   "source": [
    "! docker exec -i oracle /bin/sh -c 'echo exit | sqlplus -S chinook/Password1@localhost:1521/orclpdb1 @/opt/scenarios/scenario_3.sql'"
   ]
  },
  {
   "cell_type": "markdown",
   "metadata": {},
   "source": [
    "# Scenario 4 - Find the first 5 customers by Id who are not in the US.\n",
    "```sql\n",
    "SELECT CustomerId, FirstName, LastName, Country\n",
    "FROM Customer\n",
    "WHERE not Country = 'USA'\n",
    "ORDER BY CustomerId ASC\n",
    "FETCH FIRST 5 ROWS ONLY;\n",
    "```"
   ]
  },
  {
   "cell_type": "code",
   "execution_count": 5,
   "metadata": {
    "vscode": {
     "languageId": "shellscript"
    }
   },
   "outputs": [
    {
     "name": "stdout",
     "output_type": "stream",
     "text": [
      "\n",
      "CUSTOMERID | FIRSTNAME                                | LASTNAME             | COUNTRY\n",
      "---------- | ---------------------------------------- | -------------------- | ----------------------------------------\n",
      "         1 | Lu??s                                    | Gon??alves           | Brazil\n",
      "         2 | Leonie                                   | K??hler              | Germany\n",
      "         3 | Fran??ois                                | Tremblay             | Canada\n",
      "         4 | Bj??rn                                   | Hansen               | Norway\n",
      "         5 | Franti??ek                               | Wichterlov??         | Czech Republic\n",
      "\n"
     ]
    }
   ],
   "source": [
    "! docker exec -i oracle /bin/sh -c 'echo exit | sqlplus -S chinook/Password1@localhost:1521/orclpdb1 @/opt/scenarios/scenario_4.sql'"
   ]
  },
  {
   "cell_type": "markdown",
   "metadata": {},
   "source": [
    "# Scenario 5 - Which employees are Sales Agents?\n",
    "```sql\n",
    "SELECT LastName, FirstName FROM Employee\n",
    "WHERE Employee.Title = 'Sales Support Agent';\n",
    "```"
   ]
  },
  {
   "cell_type": "code",
   "execution_count": 6,
   "metadata": {
    "vscode": {
     "languageId": "shellscript"
    }
   },
   "outputs": [
    {
     "name": "stdout",
     "output_type": "stream",
     "text": [
      "\n",
      "LASTNAME             | FIRSTNAME\n",
      "-------------------- | --------------------\n",
      "Peacock              | Jane\n",
      "Park                 | Margaret\n",
      "Johnson              | Steve\n",
      "\n"
     ]
    }
   ],
   "source": [
    "! docker exec -i oracle /bin/sh -c 'echo exit | sqlplus -S chinook/Password1@localhost:1521/orclpdb1 @/opt/scenarios/scenario_5.sql'"
   ]
  },
  {
   "cell_type": "markdown",
   "metadata": {},
   "source": [
    "# Scenario 6 - What is the count of line items for Invoice ID 37?\n",
    "```sql\n",
    "SELECT COUNT(InvoiceLineId)\n",
    "FROM InvoiceLine\n",
    "WHERE InvoiceId = 37;\n",
    "```"
   ]
  },
  {
   "cell_type": "code",
   "execution_count": 7,
   "metadata": {
    "vscode": {
     "languageId": "shellscript"
    }
   },
   "outputs": [
    {
     "name": "stdout",
     "output_type": "stream",
     "text": [
      "\n",
      "COUNT(INVOICELINEID)\n",
      "--------------------\n",
      "                   4\n",
      "\n"
     ]
    }
   ],
   "source": [
    "! docker exec -i oracle /bin/sh -c 'echo exit | sqlplus -S chinook/Password1@localhost:1521/orclpdb1 @/opt/scenarios/scenario_6.sql'"
   ]
  },
  {
   "cell_type": "markdown",
   "metadata": {},
   "source": [
    "# Scenario 7 (Option 1 - Join) - Which artists have written the most Rock music?\n",
    "```sql\n",
    "SELECT Artist.ArtistId AS artistId, Artist.Name AS name, COUNT(Track.Name) AS Songs \n",
    "FROM Artist \n",
    "JOIN Album ON Album.ArtistId = Artist.ArtistId \n",
    "JOIN Track ON Album.AlbumId = Track.AlbumId \n",
    "JOIN Genre ON Track.GenreId = Genre.GenreId WHERE Genre.Name = 'Rock' \n",
    "GROUP BY Artist.ArtistId, Artist.Name, Genre.Name \n",
    "ORDER BY Songs DESC \n",
    "FETCH FIRST 10 ROWS ONLY; \n",
    "```"
   ]
  },
  {
   "cell_type": "code",
   "execution_count": 8,
   "metadata": {
    "vscode": {
     "languageId": "shellscript"
    }
   },
   "outputs": [
    {
     "name": "stdout",
     "output_type": "stream",
     "text": [
      "\n",
      "  ARTISTID | NAME                                               |      SONGS\n",
      "---------- | -------------------------------------------------- | ----------\n",
      "        22 | Led Zeppelin                                       |        114\n",
      "       150 | U2                                                 |        112\n",
      "        58 | Deep Purple                                        |         92\n",
      "        90 | Iron Maiden                                        |         81\n",
      "       118 | Pearl Jam                                          |         54\n",
      "       152 | Van Halen                                          |         52\n",
      "        51 | Queen                                              |         45\n",
      "       142 | The Rolling Stones                                 |         41\n",
      "        76 | Creedence Clearwater Revival                       |         40\n",
      "        52 | Kiss                                               |         35\n",
      "\n",
      "10 rows selected.\n",
      "\n"
     ]
    }
   ],
   "source": [
    "! docker exec -i oracle /bin/sh -c 'echo exit | sqlplus -S chinook/Password1@localhost:1521/orclpdb1 @/opt/scenarios/scenario_7_Option1.sql'"
   ]
  },
  {
   "cell_type": "markdown",
   "metadata": {},
   "source": [
    "# Scenario 7 (Option 2 - Materialized View) - Which artists have written the most Rock music?\n",
    "```bash\n",
    "CREATE MATERIALIZED VIEW RockView\n",
    "BUILD IMMEDIATE\n",
    "AS\n",
    "SELECT Artist.ArtistId AS artistId, Artist.Name AS name, COUNT(Track.Name) AS Songs \n",
    "FROM Artist\n",
    "JOIN Album ON Album.ArtistId = Artist.ArtistId \n",
    "JOIN Track ON Album.AlbumId = Track.AlbumId \n",
    "JOIN Genre ON Track.GenreId = Genre.GenreId WHERE Genre.Name = 'Rock' \n",
    "GROUP BY Artist.ArtistId, Artist.Name, Genre.Name \n",
    "ORDER BY Songs DESC; \n",
    "\n",
    "ALTER TABLE CHINOOK.ROCKVIEW ADD SUPPLEMENTAL LOG DATA (ALL) COLUMNS;\n",
    "ALTER MATERIALIZED VIEW RockView ADD CONSTRAINT PK_RockVIEW PRIMARY KEY (ArtistId);\n",
    "\n",
    "SELECT * FROM RockView\n",
    "FETCH FIRST 10 ROWS ONLY; \n",
    "```"
   ]
  },
  {
   "cell_type": "code",
   "execution_count": 9,
   "metadata": {
    "vscode": {
     "languageId": "shellscript"
    }
   },
   "outputs": [
    {
     "name": "stdout",
     "output_type": "stream",
     "text": [
      "\n",
      "  ARTISTID | NAME                                               |      SONGS\n",
      "---------- | -------------------------------------------------- | ----------\n",
      "        22 | Led Zeppelin                                       |        114\n",
      "       150 | U2                                                 |        112\n",
      "        58 | Deep Purple                                        |         92\n",
      "        90 | Iron Maiden                                        |         81\n",
      "       118 | Pearl Jam                                          |         54\n",
      "       152 | Van Halen                                          |         52\n",
      "        51 | Queen                                              |         45\n",
      "       142 | The Rolling Stones                                 |         41\n",
      "        76 | Creedence Clearwater Revival                       |         40\n",
      "        52 | Kiss                                               |         35\n",
      "\n",
      "10 rows selected.\n",
      "\n"
     ]
    }
   ],
   "source": [
    "! docker exec -i oracle /bin/sh -c 'echo exit | sqlplus -S chinook/Password1@localhost:1521/orclpdb1 @/opt/scenarios/scenario_7_Option2.sql'"
   ]
  }
 ],
 "metadata": {
  "kernelspec": {
   "display_name": ".venv",
   "language": "python",
   "name": "python3"
  },
  "language_info": {
   "codemirror_mode": {
    "name": "ipython",
    "version": 3
   },
   "file_extension": ".py",
   "mimetype": "text/x-python",
   "name": "python",
   "nbconvert_exporter": "python",
   "pygments_lexer": "ipython3",
   "version": "3.10.12"
  }
 },
 "nbformat": 4,
 "nbformat_minor": 2
}
