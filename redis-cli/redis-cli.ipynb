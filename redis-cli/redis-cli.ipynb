{
 "cells": [
  {
   "cell_type": "markdown",
   "metadata": {},
   "source": [
    "# Scenario 1 - Which countries have the most Invoices?\n",
    "```bash\n",
    "redis-cli -p 12000 FT.DROPINDEX idx\n",
    "redis-cli -p 12000 FT.CREATE idx ON JSON PREFIX 1 invoice: SCHEMA $.BILLINGCOUNTRY AS BillingCountry TAG\n",
    "while [[ $(redis-cli -p 12000 FT.INFO idx | awk '/percent_indexed/ {getline; print $0}') < 1 ]]; do sleep 1; done\n",
    "redis-cli -p 12000 FT.AGGREGATE idx '*' GROUPBY 1 @BillingCountry REDUCE COUNT 0 AS Invoices SORTBY 2 @Invoices DESC MAX 5\n",
    "```"
   ]
  },
  {
   "cell_type": "code",
   "execution_count": 18,
   "metadata": {
    "vscode": {
     "languageId": "shellscript"
    }
   },
   "outputs": [
    {
     "name": "stdout",
     "output_type": "stream",
     "text": [
      "OK\n",
      "OK\n",
      "1) (integer) 23\n",
      "2) 1) \"BillingCountry\"\n",
      "   2) \"USA\"\n",
      "   3) \"Invoices\"\n",
      "   4) \"91\"\n",
      "3) 1) \"BillingCountry\"\n",
      "   2) \"Canada\"\n",
      "   3) \"Invoices\"\n",
      "   4) \"56\"\n",
      "4) 1) \"BillingCountry\"\n",
      "   2) \"France\"\n",
      "   3) \"Invoices\"\n",
      "   4) \"35\"\n",
      "5) 1) \"BillingCountry\"\n",
      "   2) \"Brazil\"\n",
      "   3) \"Invoices\"\n",
      "   4) \"35\"\n",
      "6) 1) \"BillingCountry\"\n",
      "   2) \"Germany\"\n",
      "   3) \"Invoices\"\n",
      "   4) \"28\"\n"
     ]
    }
   ],
   "source": [
    "! docker exec -it re1 /opt/scenarios/scenario_1.sh"
   ]
  },
  {
   "cell_type": "markdown",
   "metadata": {},
   "source": [
    "# Scenario 2 - Which city has the best customers?\n",
    "```bash\n",
    "redis-cli -p 12000 FT.DROPINDEX idx\n",
    "redis-cli -p 12000 FT.CREATE idx ON JSON PREFIX 1 invoice: SCHEMA $.BILLINGCITY AS BillingCity TAG $.TOTAL AS Total NUMERIC\n",
    "while [[ $(redis-cli -p 12000 FT.INFO idx | awk '/percent_indexed/ {getline; print $0}') < 1 ]]; do sleep 1; done\n",
    "redis-cli -p 12000 FT.AGGREGATE idx '*' GROUPBY 1 @BillingCity REDUCE SUM 1 @Total AS InvoiceDollars SORTBY 2 @InvoiceDollars DESC MAX 3\n",
    "```"
   ]
  },
  {
   "cell_type": "code",
   "execution_count": 19,
   "metadata": {
    "vscode": {
     "languageId": "shellscript"
    }
   },
   "outputs": [
    {
     "name": "stdout",
     "output_type": "stream",
     "text": [
      "OK\n",
      "OK\n",
      "1) (integer) 52\n",
      "2) 1) \"BillingCity\"\n",
      "   2) \"Prague\"\n",
      "   3) \"InvoiceDollars\"\n",
      "   4) \"90.24\"\n",
      "3) 1) \"BillingCity\"\n",
      "   2) \"Paris\"\n",
      "   3) \"InvoiceDollars\"\n",
      "   4) \"77.24\"\n",
      "4) 1) \"BillingCity\"\n",
      "   2) \"Mountain View\"\n",
      "   3) \"InvoiceDollars\"\n",
      "   4) \"77.24\"\n"
     ]
    }
   ],
   "source": [
    "! docker exec -it re1 /opt/scenarios/scenario_2.sh"
   ]
  },
  {
   "cell_type": "markdown",
   "metadata": {},
   "source": [
    "# Scenario 3 - Who is the best customer?\n",
    "```bash\n",
    "redis-cli -p 12000 FT.DROPINDEX idx\n",
    "redis-cli -p 12000 FT.CREATE idx ON JSON PREFIX 1 invoice: SCHEMA $.CUSTOMERID AS CustomerId NUMERIC $.TOTAL AS Total NUMERIC\n",
    "while [[ $(redis-cli -p 12000 FT.INFO idx | awk '/percent_indexed/ {getline; print $0}') < 1 ]]; do sleep 1; done\n",
    "redis-cli -p 12000 FT.AGGREGATE idx '*' GROUPBY 1 @CustomerId REDUCE SUM 1 @Total AS Money_Spent SORTBY 2 @Money_Spent DESC MAX 1\n",
    "```\n"
   ]
  },
  {
   "cell_type": "code",
   "execution_count": 20,
   "metadata": {
    "vscode": {
     "languageId": "shellscript"
    }
   },
   "outputs": [
    {
     "name": "stdout",
     "output_type": "stream",
     "text": [
      "OK\n",
      "OK\n",
      "1) (integer) 58\n",
      "2) 1) \"CustomerId\"\n",
      "   2) \"6\"\n",
      "   3) \"Money_Spent\"\n",
      "   4) \"49.62\"\n"
     ]
    }
   ],
   "source": [
    "! docker exec -it re1 /opt/scenarios/scenario_3.sh"
   ]
  },
  {
   "cell_type": "markdown",
   "metadata": {},
   "source": [
    "# Scenario 4 - Find the first 5 customers by Id who are not in the US.\n",
    "```bash\n",
    "redis-cli -p 12000 FT.DROPINDEX idx\n",
    "redis-cli -p 12000 FT.CREATE idx ON JSON PREFIX 1 customer: SCHEMA $.COUNTRY AS Country TAG $.CUSTOMERID AS CustomerId NUMERIC SORTABLE\n",
    "while [[ $(redis-cli -p 12000 FT.INFO idx | awk '/percent_indexed/ {getline; print $0}') < 1 ]]; do sleep 1; done\n",
    "redis-cli -p 12000 FT.SEARCH idx \"-@Country:{USA}\" RETURN 4 CustomerId $.FIRSTNAME $.LASTNAME Country SORTBY CustomerId LIMIT 0 5\n",
    "```"
   ]
  },
  {
   "cell_type": "code",
   "execution_count": 21,
   "metadata": {
    "vscode": {
     "languageId": "shellscript"
    }
   },
   "outputs": [
    {
     "name": "stdout",
     "output_type": "stream",
     "text": [
      "OK\n",
      "OK\n",
      " 1) (integer) 45\n",
      " 2) \"customer:CUSTOMERID:1\"\n",
      " 3) 1) \"CustomerId\"\n",
      "    2) \"1\"\n",
      "    3) \"$.FIRSTNAME\"\n",
      "    4) \"Lu\\xef\\xbf\\xbd\\xef\\xbf\\xbds\"\n",
      "    5) \"$.LASTNAME\"\n",
      "    6) \"Gon\\xef\\xbf\\xbd\\xef\\xbf\\xbdalves\"\n",
      "    7) \"Country\"\n",
      "    8) \"Brazil\"\n",
      " 4) \"customer:CUSTOMERID:2\"\n",
      " 5) 1) \"CustomerId\"\n",
      "    2) \"2\"\n",
      "    3) \"$.FIRSTNAME\"\n",
      "    4) \"Leonie\"\n",
      "    5) \"$.LASTNAME\"\n",
      "    6) \"K\\xef\\xbf\\xbd\\xef\\xbf\\xbdhler\"\n",
      "    7) \"Country\"\n",
      "    8) \"Germany\"\n",
      " 6) \"customer:CUSTOMERID:3\"\n",
      " 7) 1) \"CustomerId\"\n",
      "    2) \"3\"\n",
      "    3) \"$.FIRSTNAME\"\n",
      "    4) \"Fran\\xef\\xbf\\xbd\\xef\\xbf\\xbdois\"\n",
      "    5) \"$.LASTNAME\"\n",
      "    6) \"Tremblay\"\n",
      "    7) \"Country\"\n",
      "    8) \"Canada\"\n",
      " 8) \"customer:CUSTOMERID:4\"\n",
      " 9) 1) \"CustomerId\"\n",
      "    2) \"4\"\n",
      "    3) \"$.FIRSTNAME\"\n",
      "    4) \"Bj\\xef\\xbf\\xbd\\xef\\xbf\\xbdrn\"\n",
      "    5) \"$.LASTNAME\"\n",
      "    6) \"Hansen\"\n",
      "    7) \"Country\"\n",
      "    8) \"Norway\"\n",
      "10) \"customer:CUSTOMERID:5\"\n",
      "11) 1) \"CustomerId\"\n",
      "    2) \"5\"\n",
      "    3) \"$.FIRSTNAME\"\n",
      "    4) \"Franti\\xef\\xbf\\xbd\\xef\\xbf\\xbdek\"\n",
      "    5) \"$.LASTNAME\"\n",
      "    6) \"Wichterlov\\xef\\xbf\\xbd\\xef\\xbf\\xbd\"\n",
      "    7) \"Country\"\n",
      "    8) \"Czech Republic\"\n"
     ]
    }
   ],
   "source": [
    "! docker exec -it re1 /opt/scenarios/scenario_4.sh"
   ]
  },
  {
   "cell_type": "markdown",
   "metadata": {},
   "source": [
    "# Scenario 5 - Which employees are Sales Agents?\n",
    "```bash\n",
    "redis-cli -p 12000 FT.DROPINDEX idx\n",
    "redis-cli -p 12000 FT.CREATE idx ON JSON PREFIX 1 employee: SCHEMA $.TITLE AS Title TAG\n",
    "while [[ $(redis-cli -p 12000 FT.INFO idx | awk '/percent_indexed/ {getline; print $0}') < 1 ]]; do sleep 1; done\n",
    "redis-cli -p 12000 FT.SEARCH idx \"@Title:{Sales Support Agent}\" RETURN 2 $.LASTNAME $.FIRSTNAME\n",
    "```"
   ]
  },
  {
   "cell_type": "code",
   "execution_count": 23,
   "metadata": {
    "vscode": {
     "languageId": "shellscript"
    }
   },
   "outputs": [
    {
     "name": "stdout",
     "output_type": "stream",
     "text": [
      "OK\n",
      "OK\n",
      "1) (integer) 3\n",
      "2) \"employee:EMPLOYEEID:3\"\n",
      "3) 1) \"$.LASTNAME\"\n",
      "   2) \"Peacock\"\n",
      "   3) \"$.FIRSTNAME\"\n",
      "   4) \"Jane\"\n",
      "4) \"employee:EMPLOYEEID:4\"\n",
      "5) 1) \"$.LASTNAME\"\n",
      "   2) \"Park\"\n",
      "   3) \"$.FIRSTNAME\"\n",
      "   4) \"Margaret\"\n",
      "6) \"employee:EMPLOYEEID:5\"\n",
      "7) 1) \"$.LASTNAME\"\n",
      "   2) \"Johnson\"\n",
      "   3) \"$.FIRSTNAME\"\n",
      "   4) \"Steve\"\n"
     ]
    }
   ],
   "source": [
    "! docker exec -it re1 /opt/scenarios/scenario_5.sh"
   ]
  },
  {
   "cell_type": "markdown",
   "metadata": {},
   "source": [
    "# Scenario 6 - What is the count of line items for Invoice ID 37?\n",
    "```bash\n",
    "redis-cli -p 12000 FT.DROPINDEX idx\n",
    "redis-cli -p 12000 FT.CREATE idx ON JSON PREFIX 1 invoiceline: SCHEMA $.INVOICEID AS InvoiceId NUMERIC\n",
    "while [[ $(redis-cli -p 12000 FT.INFO idx | awk '/percent_indexed/ {getline; print $0}') < 1 ]]; do sleep 1; done\n",
    "redis-cli -p 12000 FT.AGGREGATE idx \"@InvoiceId:[37 37]\" GROUPBY 0 REDUCE COUNT 0 as Count\n",
    "```"
   ]
  },
  {
   "cell_type": "code",
   "execution_count": 24,
   "metadata": {
    "vscode": {
     "languageId": "shellscript"
    }
   },
   "outputs": [
    {
     "name": "stdout",
     "output_type": "stream",
     "text": [
      "OK\n",
      "OK\n",
      "1) (integer) 1\n",
      "2) 1) \"Count\"\n",
      "   2) \"4\"\n"
     ]
    }
   ],
   "source": [
    "! docker exec -it re1 /opt/scenarios/scenario_6.sh"
   ]
  },
  {
   "cell_type": "markdown",
   "metadata": {},
   "source": [
    "# Scenario 7 - Which artists have written the most Rock music?\n",
    "```bash\n",
    "redis-cli -p 12000 FT.DROPINDEX idx\n",
    "redis-cli -p 12000 FT.CREATE idx ON JSON PREFIX 1 rockview: SCHEMA $.SONGS AS Songs NUMERIC SORTABLE\n",
    "while [[ $(redis-cli -p 12000 FT.INFO idx | awk '/percent_indexed/ {getline; print $0}') < 1 ]]; do sleep 1; done\n",
    "redis-cli -p 12000 FT.SEARCH idx '*' SORTBY Songs DESC LIMIT 0 10\n",
    "```"
   ]
  },
  {
   "cell_type": "code",
   "execution_count": 25,
   "metadata": {
    "vscode": {
     "languageId": "shellscript"
    }
   },
   "outputs": [
    {
     "name": "stdout",
     "output_type": "stream",
     "text": [
      "OK\n",
      "OK\n",
      " 1) (integer) 51\n",
      " 2) \"rockview:ARTISTID:22\"\n",
      " 3) 1) \"Songs\"\n",
      "    2) \"114\"\n",
      "    3) \"$\"\n",
      "    4) \"{\\\"ARTISTID\\\":22,\\\"NAME\\\":\\\"Led Zeppelin\\\",\\\"SONGS\\\":114}\"\n",
      " 4) \"rockview:ARTISTID:150\"\n",
      " 5) 1) \"Songs\"\n",
      "    2) \"112\"\n",
      "    3) \"$\"\n",
      "    4) \"{\\\"ARTISTID\\\":150,\\\"NAME\\\":\\\"U2\\\",\\\"SONGS\\\":112}\"\n",
      " 6) \"rockview:ARTISTID:58\"\n",
      " 7) 1) \"Songs\"\n",
      "    2) \"92\"\n",
      "    3) \"$\"\n",
      "    4) \"{\\\"ARTISTID\\\":58,\\\"NAME\\\":\\\"Deep Purple\\\",\\\"SONGS\\\":92}\"\n",
      " 8) \"rockview:ARTISTID:90\"\n",
      " 9) 1) \"Songs\"\n",
      "    2) \"81\"\n",
      "    3) \"$\"\n",
      "    4) \"{\\\"ARTISTID\\\":90,\\\"NAME\\\":\\\"Iron Maiden\\\",\\\"SONGS\\\":81}\"\n",
      "10) \"rockview:ARTISTID:118\"\n",
      "11) 1) \"Songs\"\n",
      "    2) \"54\"\n",
      "    3) \"$\"\n",
      "    4) \"{\\\"ARTISTID\\\":118,\\\"NAME\\\":\\\"Pearl Jam\\\",\\\"SONGS\\\":54}\"\n",
      "12) \"rockview:ARTISTID:152\"\n",
      "13) 1) \"Songs\"\n",
      "    2) \"52\"\n",
      "    3) \"$\"\n",
      "    4) \"{\\\"ARTISTID\\\":152,\\\"NAME\\\":\\\"Van Halen\\\",\\\"SONGS\\\":52}\"\n",
      "14) \"rockview:ARTISTID:51\"\n",
      "15) 1) \"Songs\"\n",
      "    2) \"45\"\n",
      "    3) \"$\"\n",
      "    4) \"{\\\"ARTISTID\\\":51,\\\"NAME\\\":\\\"Queen\\\",\\\"SONGS\\\":45}\"\n",
      "16) \"rockview:ARTISTID:142\"\n",
      "17) 1) \"Songs\"\n",
      "    2) \"41\"\n",
      "    3) \"$\"\n",
      "    4) \"{\\\"ARTISTID\\\":142,\\\"NAME\\\":\\\"The Rolling Stones\\\",\\\"SONGS\\\":41}\"\n",
      "18) \"rockview:ARTISTID:76\"\n",
      "19) 1) \"Songs\"\n",
      "    2) \"40\"\n",
      "    3) \"$\"\n",
      "    4) \"{\\\"ARTISTID\\\":76,\\\"NAME\\\":\\\"Creedence Clearwater Revival\\\",\\\"SONGS\\\":40}\"\n",
      "20) \"rockview:ARTISTID:52\"\n",
      "21) 1) \"Songs\"\n",
      "    2) \"35\"\n",
      "    3) \"$\"\n",
      "    4) \"{\\\"ARTISTID\\\":52,\\\"NAME\\\":\\\"Kiss\\\",\\\"SONGS\\\":35}\"\n"
     ]
    }
   ],
   "source": [
    "! docker exec -it re1 /opt/scenarios/scenario_7.sh"
   ]
  }
 ],
 "metadata": {
  "kernelspec": {
   "display_name": ".venv",
   "language": "python",
   "name": "python3"
  },
  "language_info": {
   "codemirror_mode": {
    "name": "ipython",
    "version": 3
   },
   "file_extension": ".py",
   "mimetype": "text/x-python",
   "name": "python",
   "nbconvert_exporter": "python",
   "pygments_lexer": "ipython3",
   "version": "3.10.12"
  }
 },
 "nbformat": 4,
 "nbformat_minor": 2
}
